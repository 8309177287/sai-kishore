{
  "nbformat": 4,
  "nbformat_minor": 0,
  "metadata": {
    "colab": {
      "name": "Untitled12.ipynb",
      "provenance": [],
      "authorship_tag": "ABX9TyMQUXb4JbQFXHV1wtvqLtSA",
      "include_colab_link": true
    },
    "kernelspec": {
      "name": "python3",
      "display_name": "Python 3"
    },
    "language_info": {
      "name": "python"
    }
  },
  "cells": [
    {
      "cell_type": "markdown",
      "metadata": {
        "id": "view-in-github",
        "colab_type": "text"
      },
      "source": [
        "<a href=\"https://colab.research.google.com/github/8309177287/sai-kishore/blob/main/Untitled12.ipynb\" target=\"_parent\"><img src=\"https://colab.research.google.com/assets/colab-badge.svg\" alt=\"Open In Colab\"/></a>"
      ]
    },
    {
      "cell_type": "code",
      "metadata": {
        "id": "G5zlaDRp2xEB"
      },
      "source": [
        "import pandas as pd"
      ],
      "execution_count": null,
      "outputs": []
    },
    {
      "cell_type": "code",
      "metadata": {
        "colab": {
          "base_uri": "https://localhost:8080/",
          "height": 162
        },
        "id": "23E6_kFU24Hg",
        "outputId": "3e428288-bd74-4a28-b281-c95aaeddabca"
      },
      "source": [
        "data= pd.read_csv('https://archive.ics.uci.edu/ml/machine-learning-databases/hepatitis/hepatitis.data',index_cols=None,names=[\"Class\",\"AGE\",\"SEX\",\"STEROID\",\"ANTIVIRALS\",\"FATIGUE\",\"MALAISE\",\"ANOREXIA\",\"LIVER BIG\",\"LIVER FIRM\",\"SPLEEN PALPABLE\",\"SPIDERS\",\"ASCITES\",\"VARICES\",\"BILIRUBIN\",\"ALK PHOSPHATE\",\"SGOT\",\"ALBUMIN\",\"PROTIME\",\"HISTOLOGY\"]"
      ],
      "execution_count": null,
      "outputs": [
        {
          "output_type": "error",
          "ename": "SyntaxError",
          "evalue": "ignored",
          "traceback": [
            "\u001b[0;36m  File \u001b[0;32m\"<ipython-input-5-4c39a4f3642b>\"\u001b[0;36m, line \u001b[0;32m1\u001b[0m\n\u001b[0;31m    data= pd.read_csv('https://archive.ics.uci.edu/ml/machine-learning-databases/hepatitis/hepatitis.data',index_cols=None,names=[\"Class\",\"AGE\",\"SEX\",\"STEROID\",\"ANTIVIRALS\",\"FATIGUE\",\"MALAISE\",\"ANOREXIA\",\"LIVER BIG\",\"LIVER FIRM\",\"SPLEEN PALPABLE\",\"SPIDERS\",\"ASCITES\",\"VARICES\",\"BILIRUBIN\",\"ALK PHOSPHATE\",\"SGOT\",\"ALBUMIN\",\"PROTIME\",\"HISTOLOGY\"]\u001b[0m\n\u001b[0m                                                                                                                                                                                                                                                                                                                                                        ^\u001b[0m\n\u001b[0;31mSyntaxError\u001b[0m\u001b[0;31m:\u001b[0m unexpected EOF while parsing\n"
          ]
        }
      ]
    },
    {
      "cell_type": "code",
      "metadata": {
        "colab": {
          "base_uri": "https://localhost:8080/",
          "height": 128
        },
        "id": "NVNy4rC87aXm",
        "outputId": "a62908e1-7247-4892-82ce-a450fe32f657"
      },
      "source": [
        "data= pd.read_csv('https://archive.ics.uci.edu/ml/machine-learning-databases/hepatitis/hepatitis.data',index_col=None,\n",
        "  names=[\"Class\",\"AGE\",\"SEX\",\"STEROID\",\"ANTIVIRALS\",\"FATIGUE\",\"MALAISE\",\"ANOREXIA\",\"LIVER BIG\",\"LIVER FIRM\",\"SPLEEN PALPABLE\",\"SPIDERS\",\"ASCITES\",\"VARICES\",\"BILIRUBIN\",\"ALK PHOSPHATE\",\"SGOT\",\"ALBUMIN\",\"PROTIME\",\"HISTOLOGY\"]\n",
        "\n",
        "\n",
        "data.head(10)                 \n",
        "                  "
      ],
      "execution_count": null,
      "outputs": [
        {
          "output_type": "error",
          "ename": "SyntaxError",
          "evalue": "ignored",
          "traceback": [
            "\u001b[0;36m  File \u001b[0;32m\"<ipython-input-6-4329d7221e92>\"\u001b[0;36m, line \u001b[0;32m5\u001b[0m\n\u001b[0;31m    data.head(10)\u001b[0m\n\u001b[0m       ^\u001b[0m\n\u001b[0;31mSyntaxError\u001b[0m\u001b[0;31m:\u001b[0m invalid syntax\n"
          ]
        }
      ]
    },
    {
      "cell_type": "code",
      "metadata": {
        "id": "Hk8MNN8Y9P8i"
      },
      "source": [
        ""
      ],
      "execution_count": null,
      "outputs": []
    }
  ]
}